{
 "cells": [
  {
   "cell_type": "code",
   "execution_count": 1,
   "id": "cc879902",
   "metadata": {},
   "outputs": [],
   "source": [
    "import numpy as np\n",
    "import pandas as pd"
   ]
  },
  {
   "cell_type": "markdown",
   "id": "22c3a848",
   "metadata": {},
   "source": [
    "## Task№ 1"
   ]
  },
  {
   "cell_type": "markdown",
   "id": "39c25815",
   "metadata": {},
   "source": [
    "### Preprocessing"
   ]
  },
  {
   "cell_type": "code",
   "execution_count": 23,
   "id": "e8779c55",
   "metadata": {},
   "outputs": [],
   "source": [
    "df1 = pd.read_csv('./development.csv', header=None)"
   ]
  },
  {
   "cell_type": "code",
   "execution_count": 24,
   "id": "fbf3367c",
   "metadata": {},
   "outputs": [
    {
     "data": {
      "text/html": [
       "<div>\n",
       "<style scoped>\n",
       "    .dataframe tbody tr th:only-of-type {\n",
       "        vertical-align: middle;\n",
       "    }\n",
       "\n",
       "    .dataframe tbody tr th {\n",
       "        vertical-align: top;\n",
       "    }\n",
       "\n",
       "    .dataframe thead th {\n",
       "        text-align: right;\n",
       "    }\n",
       "</style>\n",
       "<table border=\"1\" class=\"dataframe\">\n",
       "  <thead>\n",
       "    <tr style=\"text-align: right;\">\n",
       "      <th></th>\n",
       "      <th>0</th>\n",
       "      <th>1</th>\n",
       "      <th>2</th>\n",
       "      <th>3</th>\n",
       "      <th>4</th>\n",
       "      <th>5</th>\n",
       "      <th>6</th>\n",
       "    </tr>\n",
       "  </thead>\n",
       "  <tbody>\n",
       "    <tr>\n",
       "      <th>0</th>\n",
       "      <td>1993-5-1</td>\n",
       "      <td>1128.57</td>\n",
       "      <td>06/1993: Sum = 1.1 TFlop/s</td>\n",
       "      <td>59.7</td>\n",
       "      <td>06/1993: #1 = 59.7 GFlop/s</td>\n",
       "      <td>0.42</td>\n",
       "      <td>06/1993: #500 = 0.4 GFlop/s]</td>\n",
       "    </tr>\n",
       "    <tr>\n",
       "      <th>1</th>\n",
       "      <td>1993-10-1</td>\n",
       "      <td>1493.35</td>\n",
       "      <td>11/1993: Sum = 1.5 TFlop/s</td>\n",
       "      <td>124.0</td>\n",
       "      <td>11/1993: #1 = 124.0 GFlop/s</td>\n",
       "      <td>0.47</td>\n",
       "      <td>11/1993: #500 = 0.5 GFlop/s]</td>\n",
       "    </tr>\n",
       "    <tr>\n",
       "      <th>2</th>\n",
       "      <td>1994-5-1</td>\n",
       "      <td>2317.01</td>\n",
       "      <td>06/1994: Sum = 2.3 TFlop/s</td>\n",
       "      <td>143.4</td>\n",
       "      <td>06/1994: #1 = 143.4 GFlop/s</td>\n",
       "      <td>0.84</td>\n",
       "      <td>06/1994: #500 = 0.8 GFlop/s]</td>\n",
       "    </tr>\n",
       "    <tr>\n",
       "      <th>3</th>\n",
       "      <td>1994-10-1</td>\n",
       "      <td>2732.24</td>\n",
       "      <td>11/1994: Sum = 2.7 TFlop/s</td>\n",
       "      <td>170.0</td>\n",
       "      <td>11/1994: #1 = 170.0 GFlop/s</td>\n",
       "      <td>1.16</td>\n",
       "      <td>11/1994: #500 = 1.2 GFlop/s]</td>\n",
       "    </tr>\n",
       "    <tr>\n",
       "      <th>4</th>\n",
       "      <td>1995-5-1</td>\n",
       "      <td>3927.00</td>\n",
       "      <td>06/1995: Sum = 3.9 TFlop/s</td>\n",
       "      <td>170.0</td>\n",
       "      <td>06/1995: #1 = 170.0 GFlop/s</td>\n",
       "      <td>1.96</td>\n",
       "      <td>06/1995: #500 = 2.0 GFlop/s]</td>\n",
       "    </tr>\n",
       "  </tbody>\n",
       "</table>\n",
       "</div>"
      ],
      "text/plain": [
       "           0        1                           2      3  \\\n",
       "0   1993-5-1  1128.57  06/1993: Sum = 1.1 TFlop/s   59.7   \n",
       "1  1993-10-1  1493.35  11/1993: Sum = 1.5 TFlop/s  124.0   \n",
       "2   1994-5-1  2317.01  06/1994: Sum = 2.3 TFlop/s  143.4   \n",
       "3  1994-10-1  2732.24  11/1994: Sum = 2.7 TFlop/s  170.0   \n",
       "4   1995-5-1  3927.00  06/1995: Sum = 3.9 TFlop/s  170.0   \n",
       "\n",
       "                             4     5                             6  \n",
       "0   06/1993: #1 = 59.7 GFlop/s  0.42  06/1993: #500 = 0.4 GFlop/s]  \n",
       "1  11/1993: #1 = 124.0 GFlop/s  0.47  11/1993: #500 = 0.5 GFlop/s]  \n",
       "2  06/1994: #1 = 143.4 GFlop/s  0.84  06/1994: #500 = 0.8 GFlop/s]  \n",
       "3  11/1994: #1 = 170.0 GFlop/s  1.16  11/1994: #500 = 1.2 GFlop/s]  \n",
       "4  06/1995: #1 = 170.0 GFlop/s  1.96  06/1995: #500 = 2.0 GFlop/s]  "
      ]
     },
     "execution_count": 24,
     "metadata": {},
     "output_type": "execute_result"
    }
   ],
   "source": [
    "df1.head()"
   ]
  },
  {
   "cell_type": "code",
   "execution_count": 25,
   "id": "a0e83a4d",
   "metadata": {},
   "outputs": [
    {
     "data": {
      "text/html": [
       "<div>\n",
       "<style scoped>\n",
       "    .dataframe tbody tr th:only-of-type {\n",
       "        vertical-align: middle;\n",
       "    }\n",
       "\n",
       "    .dataframe tbody tr th {\n",
       "        vertical-align: top;\n",
       "    }\n",
       "\n",
       "    .dataframe thead th {\n",
       "        text-align: right;\n",
       "    }\n",
       "</style>\n",
       "<table border=\"1\" class=\"dataframe\">\n",
       "  <thead>\n",
       "    <tr style=\"text-align: right;\">\n",
       "      <th></th>\n",
       "      <th>0</th>\n",
       "      <th>1</th>\n",
       "      <th>2</th>\n",
       "      <th>3</th>\n",
       "      <th>4</th>\n",
       "      <th>5</th>\n",
       "      <th>6</th>\n",
       "    </tr>\n",
       "  </thead>\n",
       "  <tbody>\n",
       "    <tr>\n",
       "      <th>52</th>\n",
       "      <td>2019-5-1</td>\n",
       "      <td>1.559575e+09</td>\n",
       "      <td>06/2019: Sum = 1.6 EFlop/s</td>\n",
       "      <td>148600000.0</td>\n",
       "      <td>06/2019: #1 = 148.6 PFlop/s</td>\n",
       "      <td>1021000.0</td>\n",
       "      <td>06/2019: #500 = 1.0 PFlop/s]</td>\n",
       "    </tr>\n",
       "    <tr>\n",
       "      <th>53</th>\n",
       "      <td>2019-10-1</td>\n",
       "      <td>1.646887e+09</td>\n",
       "      <td>11/2019: Sum = 1.6 EFlop/s</td>\n",
       "      <td>148600000.0</td>\n",
       "      <td>11/2019: #1 = 148.6 PFlop/s</td>\n",
       "      <td>1142000.0</td>\n",
       "      <td>11/2019: #500 = 1.1 PFlop/s]</td>\n",
       "    </tr>\n",
       "    <tr>\n",
       "      <th>54</th>\n",
       "      <td>2020-5-1</td>\n",
       "      <td>2.206134e+09</td>\n",
       "      <td>06/2020: Sum = 2.2 EFlop/s</td>\n",
       "      <td>415530000.0</td>\n",
       "      <td>06/2020: #1 = 415.5 PFlop/s</td>\n",
       "      <td>1228000.0</td>\n",
       "      <td>06/2020: #500 = 1.2 PFlop/s]</td>\n",
       "    </tr>\n",
       "    <tr>\n",
       "      <th>55</th>\n",
       "      <td>2020-10-1</td>\n",
       "      <td>2.428762e+09</td>\n",
       "      <td>11/2020: Sum = 2.4 EFlop/s</td>\n",
       "      <td>442010000.0</td>\n",
       "      <td>11/2020: #1 = 442.0 PFlop/s</td>\n",
       "      <td>1316840.0</td>\n",
       "      <td>11/2020: #500 = 1.3 PFlop/s]</td>\n",
       "    </tr>\n",
       "    <tr>\n",
       "      <th>56</th>\n",
       "      <td>2021-5-1</td>\n",
       "      <td>2.786059e+09</td>\n",
       "      <td>06/2021: Sum = 2.8 EFlop/s</td>\n",
       "      <td>442010000.0</td>\n",
       "      <td>06/2021: #1 = 442.0 PFlop/s</td>\n",
       "      <td>1511000.0</td>\n",
       "      <td>06/2021: #500 = 1.5 PFlop/s]</td>\n",
       "    </tr>\n",
       "  </tbody>\n",
       "</table>\n",
       "</div>"
      ],
      "text/plain": [
       "            0             1                           2            3  \\\n",
       "52   2019-5-1  1.559575e+09  06/2019: Sum = 1.6 EFlop/s  148600000.0   \n",
       "53  2019-10-1  1.646887e+09  11/2019: Sum = 1.6 EFlop/s  148600000.0   \n",
       "54   2020-5-1  2.206134e+09  06/2020: Sum = 2.2 EFlop/s  415530000.0   \n",
       "55  2020-10-1  2.428762e+09  11/2020: Sum = 2.4 EFlop/s  442010000.0   \n",
       "56   2021-5-1  2.786059e+09  06/2021: Sum = 2.8 EFlop/s  442010000.0   \n",
       "\n",
       "                              4          5                             6  \n",
       "52  06/2019: #1 = 148.6 PFlop/s  1021000.0  06/2019: #500 = 1.0 PFlop/s]  \n",
       "53  11/2019: #1 = 148.6 PFlop/s  1142000.0  11/2019: #500 = 1.1 PFlop/s]  \n",
       "54  06/2020: #1 = 415.5 PFlop/s  1228000.0  06/2020: #500 = 1.2 PFlop/s]  \n",
       "55  11/2020: #1 = 442.0 PFlop/s  1316840.0  11/2020: #500 = 1.3 PFlop/s]  \n",
       "56  06/2021: #1 = 442.0 PFlop/s  1511000.0  06/2021: #500 = 1.5 PFlop/s]  "
      ]
     },
     "execution_count": 25,
     "metadata": {},
     "output_type": "execute_result"
    }
   ],
   "source": [
    "df1.tail()"
   ]
  },
  {
   "cell_type": "code",
   "execution_count": 26,
   "id": "ac613f27",
   "metadata": {},
   "outputs": [],
   "source": [
    "top1_gflops = df1[3].values\n",
    "times = df1[0].values"
   ]
  },
  {
   "cell_type": "markdown",
   "id": "8b3a9263",
   "metadata": {},
   "source": [
    "В top1_gflops лежит производительность топового суперкомпьютера в Гига флопсах\n"
   ]
  },
  {
   "cell_type": "code",
   "execution_count": 27,
   "id": "c138c1f6",
   "metadata": {},
   "outputs": [
    {
     "data": {
      "text/plain": [
       "array([5.97000000e+01, 1.24000000e+02, 1.43400000e+02, 1.70000000e+02,\n",
       "       1.70000000e+02, 1.70000000e+02, 2.20400000e+02, 3.68200000e+02,\n",
       "       1.06800000e+03, 1.33800000e+03, 1.33800000e+03, 1.33800000e+03,\n",
       "       2.12100000e+03, 2.37900000e+03, 2.37900000e+03, 4.93800000e+03,\n",
       "       7.22600000e+03, 7.22600000e+03, 3.58600000e+04, 3.58600000e+04,\n",
       "       3.58600000e+04, 3.58600000e+04, 3.58600000e+04, 7.07200000e+04,\n",
       "       1.36800000e+05, 2.80600000e+05, 2.80600000e+05, 2.80600000e+05,\n",
       "       2.80600000e+05, 4.78200000e+05, 1.02600000e+06, 1.10500000e+06,\n",
       "       1.10500000e+06, 1.75900000e+06, 1.75900000e+06, 2.56600000e+06,\n",
       "       8.16200000e+06, 1.05100000e+07, 1.63247510e+07, 1.75900000e+07,\n",
       "       3.38627000e+07, 3.38627000e+07, 3.38627000e+07, 3.38627000e+07,\n",
       "       3.38627000e+07, 3.38627000e+07, 9.30145939e+07, 9.30145939e+07,\n",
       "       9.30145939e+07, 9.30145939e+07, 1.22300000e+08, 1.43500000e+08,\n",
       "       1.48600000e+08, 1.48600000e+08, 4.15530000e+08, 4.42010000e+08,\n",
       "       4.42010000e+08])"
      ]
     },
     "execution_count": 27,
     "metadata": {},
     "output_type": "execute_result"
    }
   ],
   "source": [
    "top1_gflops"
   ]
  },
  {
   "cell_type": "code",
   "execution_count": 28,
   "id": "b94762a7",
   "metadata": {},
   "outputs": [
    {
     "data": {
      "text/plain": [
       "array(['1993-5-1', '1993-10-1', '1994-5-1', '1994-10-1', '1995-5-1',\n",
       "       '1995-10-1', '1996-5-1', '1996-10-1', '1997-5-1', '1997-10-1',\n",
       "       '1998-5-1', '1998-10-1', '1999-5-1', '1999-10-1', '2000-5-1',\n",
       "       '2000-10-1', '2001-5-1', '2001-10-1', '2002-5-1', '2002-10-1',\n",
       "       '2003-5-1', '2003-10-1', '2004-5-1', '2004-10-1', '2005-5-1',\n",
       "       '2005-10-1', '2006-5-1', '2006-10-1', '2007-5-1', '2007-10-1',\n",
       "       '2008-5-1', '2008-10-1', '2009-5-1', '2009-10-1', '2010-5-1',\n",
       "       '2010-10-1', '2011-5-1', '2011-10-1', '2012-5-1', '2012-10-1',\n",
       "       '2013-5-1', '2013-10-1', '2014-5-1', '2014-10-1', '2015-5-1',\n",
       "       '2015-10-1', '2016-5-1', '2016-10-1', '2017-5-1', '2017-10-1',\n",
       "       '2018-5-1', '2018-10-1', '2019-5-1', '2019-10-1', '2020-5-1',\n",
       "       '2020-10-1', '2021-5-1'], dtype=object)"
      ]
     },
     "execution_count": 28,
     "metadata": {},
     "output_type": "execute_result"
    }
   ],
   "source": [
    "times"
   ]
  },
  {
   "cell_type": "code",
   "execution_count": 29,
   "id": "0ec4f1e0",
   "metadata": {},
   "outputs": [],
   "source": [
    "new_times = []"
   ]
  },
  {
   "cell_type": "code",
   "execution_count": 30,
   "id": "59808a67",
   "metadata": {},
   "outputs": [],
   "source": [
    "for date in times:\n",
    "    devided = date.split('-')\n",
    "    new_times.append(float(devided[0]) + float(devided[1]) / 12)"
   ]
  },
  {
   "cell_type": "code",
   "execution_count": 31,
   "id": "157b35ca",
   "metadata": {},
   "outputs": [],
   "source": [
    "new_times = np.array(new_times)"
   ]
  },
  {
   "cell_type": "code",
   "execution_count": 32,
   "id": "d07c0f57",
   "metadata": {},
   "outputs": [],
   "source": [
    "min_time = int(new_times.min())"
   ]
  },
  {
   "cell_type": "code",
   "execution_count": 34,
   "id": "237f4b84",
   "metadata": {},
   "outputs": [],
   "source": [
    "new_times -= min_time"
   ]
  },
  {
   "cell_type": "markdown",
   "id": "1b19860f",
   "metadata": {},
   "source": [
    "### Model"
   ]
  },
  {
   "cell_type": "code",
   "execution_count": 35,
   "id": "4dabd5b9",
   "metadata": {},
   "outputs": [],
   "source": [
    "from sklearn.linear_model import LinearRegression"
   ]
  },
  {
   "cell_type": "code",
   "execution_count": 36,
   "id": "3a820825",
   "metadata": {},
   "outputs": [],
   "source": [
    "m = LinearRegression()"
   ]
  },
  {
   "cell_type": "code",
   "execution_count": 37,
   "id": "8ca4b053",
   "metadata": {},
   "outputs": [
    {
     "data": {
      "text/plain": [
       "LinearRegression()"
      ]
     },
     "execution_count": 37,
     "metadata": {},
     "output_type": "execute_result"
    }
   ],
   "source": [
    "m.fit((new_times).reshape((-1,1)), np.log(top1_gflops.reshape((-1,1))))"
   ]
  },
  {
   "cell_type": "code",
   "execution_count": 39,
   "id": "0706ef75",
   "metadata": {},
   "outputs": [
    {
     "data": {
      "text/plain": [
       "array([[9.64273219e+08]])"
      ]
     },
     "execution_count": 39,
     "metadata": {},
     "output_type": "execute_result"
    }
   ],
   "source": [
    "np.exp(m.predict(np.array([[2021.]]) - min_time))"
   ]
  },
  {
   "cell_type": "markdown",
   "id": "b9e929dd",
   "metadata": {},
   "source": [
    "### Answer\n",
    "Производительность в 2025 по оценке будет 10 EFlops/s"
   ]
  },
  {
   "cell_type": "code",
   "execution_count": 40,
   "id": "4ddbb94f",
   "metadata": {},
   "outputs": [],
   "source": [
    "from matplotlib import pyplot as plt"
   ]
  },
  {
   "cell_type": "markdown",
   "id": "b3ceac54",
   "metadata": {},
   "source": [
    "график в логарифмической шкале"
   ]
  },
  {
   "cell_type": "code",
   "execution_count": 46,
   "id": "a71a6fd0",
   "metadata": {},
   "outputs": [
    {
     "data": {
      "image/png": "[encoded data removed]",
      "text/plain": [
       "<Figure size 432x288 with 1 Axes>"
      ]
     },
     "metadata": {
      "needs_background": "light"
     },
     "output_type": "display_data"
    }
   ],
   "source": [
    "plt.plot(new_times, np.log(top1_gflops))\n",
    "plt.plot(new_times, m.predict(new_times.reshape((-1,1))))\n",
    "plt.show()"
   ]
  },
  {
   "cell_type": "markdown",
   "id": "73a8eaed",
   "metadata": {},
   "source": [
    "## Task№ 2"
   ]
  },
  {
   "cell_type": "code",
   "execution_count": 47,
   "id": "4b5435d2",
   "metadata": {},
   "outputs": [],
   "source": [
    "df2 = pd.read_csv('./top500.csv',delimiter=';')"
   ]
  },
  {
   "cell_type": "code",
   "execution_count": 48,
   "id": "40a65fb2",
   "metadata": {},
   "outputs": [
    {
     "data": {
      "text/plain": [
       "Index(['Rank', 'Previous Rank', 'First Appearance', 'First Rank', 'Name',\n",
       "       'Computer', 'Site', 'Manufacturer', 'Country', 'Year', 'Segment',\n",
       "       'Total Cores', 'Accelerator/Co-Processor Cores', 'Rmax [TFlop/s]',\n",
       "       'Rpeak [TFlop/s]', 'Nmax', 'Nhalf', 'HPCG [TFlop/s]', 'Power (kW)',\n",
       "       'Power Source', 'Power Efficiency [GFlops/Watts]', 'Memory',\n",
       "       'Architecture', 'Processor', 'Processor Technology',\n",
       "       'Processor Speed (MHz)', 'Operating System', 'OS Family',\n",
       "       'Accelerator/Co-Processor', 'Cores per Socket', 'Processor Generation',\n",
       "       'System Model', 'System Family', 'Interconnect Family', 'Interconnect',\n",
       "       'Continent', 'Site ID', 'System ID'],\n",
       "      dtype='object')"
      ]
     },
     "execution_count": 48,
     "metadata": {},
     "output_type": "execute_result"
    }
   ],
   "source": [
    "df2.columns"
   ]
  },
  {
   "cell_type": "code",
   "execution_count": 49,
   "id": "7a556e86",
   "metadata": {},
   "outputs": [
    {
     "name": "stderr",
     "output_type": "stream",
     "text": [
      "/tmp/ipykernel_22013/2674573308.py:3: SettingWithCopyWarning: \n",
      "A value is trying to be set on a copy of a slice from a DataFrame\n",
      "\n",
      "See the caveats in the documentation: https://pandas.pydata.org/pandas-docs/stable/user_guide/indexing.html#returning-a-view-versus-a-copy\n",
      "  df2['Power (kW)'][i] = float(df2['Power (kW)'][i].replace('\\xa0', '').replace(',','.'))\n"
     ]
    }
   ],
   "source": [
    "for i in range(len(df2)):\n",
    "    if not df2.iloc[i].isna()['Power (kW)']:\n",
    "        df2['Power (kW)'][i] = float(df2['Power (kW)'][i].replace('\\xa0', '').replace(',','.'))"
   ]
  },
  {
   "cell_type": "code",
   "execution_count": 60,
   "id": "ad3bae73",
   "metadata": {},
   "outputs": [
    {
     "data": {
      "text/plain": [
       "0      29899.230000\n",
       "1      10096.000000\n",
       "2       7438.280000\n",
       "3      15371.000000\n",
       "4       2528.000000\n",
       "           ...     \n",
       "495     1900.551381\n",
       "496      603.400000\n",
       "497     1900.551381\n",
       "498     1900.551381\n",
       "499     1900.551381\n",
       "Name: Power (kW), Length: 500, dtype: float64"
      ]
     },
     "execution_count": 60,
     "metadata": {},
     "output_type": "execute_result"
    }
   ],
   "source": [
    "df2['Power (kW)'].fillna(df2['Power (kW)'].mean())"
   ]
  },
  {
   "cell_type": "code",
   "execution_count": 61,
   "id": "b4a3a637",
   "metadata": {},
   "outputs": [],
   "source": [
    "#потребляемая мощность компьютеров\n",
    "hpc_power = df2['Power (kW)'].sum()"
   ]
  },
  {
   "cell_type": "code",
   "execution_count": 65,
   "id": "154f442d",
   "metadata": {},
   "outputs": [],
   "source": [
    "#за 2019 год столько произвели энергии (Ватт*час) (27005 Терраватт*час)\n",
    "full_energy = 27005 * 1e12"
   ]
  },
  {
   "cell_type": "code",
   "execution_count": 63,
   "id": "2a0867fa",
   "metadata": {},
   "outputs": [],
   "source": [
    "proc = hpc_power * 1e3 * 24 * 365 / full_energy * 100"
   ]
  },
  {
   "cell_type": "code",
   "execution_count": 64,
   "id": "0622a3b1",
   "metadata": {},
   "outputs": [
    {
     "data": {
      "text/plain": [
       "0.01115881595260137"
      ]
     },
     "execution_count": 64,
     "metadata": {},
     "output_type": "execute_result"
    }
   ],
   "source": [
    "proc"
   ]
  },
  {
   "cell_type": "markdown",
   "id": "6fd3f036",
   "metadata": {},
   "source": [
    "0.01% всей мощности"
   ]
  }
 ],
 "metadata": {
  "kernelspec": {
   "display_name": "Python 3 (ipykernel)",
   "language": "python",
   "name": "python3"
  },
  "language_info": {
   "codemirror_mode": {
    "name": "ipython",
    "version": 3
   },
   "file_extension": ".py",
   "mimetype": "text/x-python",
   "name": "python",
   "nbconvert_exporter": "python",
   "pygments_lexer": "ipython3",
   "version": "3.9.5"
  }
 },
 "nbformat": 4,
 "nbformat_minor": 5
}
